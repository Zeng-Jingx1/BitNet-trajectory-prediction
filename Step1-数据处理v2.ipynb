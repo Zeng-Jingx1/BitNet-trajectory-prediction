{
 "cells": [
  {
   "cell_type": "code",
   "execution_count": 1,
   "metadata": {},
   "outputs": [],
   "source": [
    "# import torch\n",
    "# from bitnet import BitMGQA\n",
    "# import torch\n",
    "# from bitnet import BitMGQA\n",
    "# x = torch.randn(32, 7, 64)\n",
    "# gqa = BitMGQA(64, 8, 4)\n",
    "# out, _ = gqa(x, x, x, need_weights=True)\n",
    "# print(out.shape)\n",
    "import pandas as pd \n",
    "import numpy as np\n",
    "import json\n",
    "import os\n"
   ]
  },
  {
   "cell_type": "code",
   "execution_count": 2,
   "metadata": {},
   "outputs": [],
   "source": [
    "import os\n",
    "import glob\n",
    "\n",
    "def get_json_files(root_dir):\n",
    "    \"\"\"\n",
    "    获取指定文件夹及其子文件夹下所有以.json结尾的文件\n",
    "    :param root_dir: 根文件夹路径\n",
    "    :return: json文件的路径列表\n",
    "    \"\"\"\n",
    "    # 使用glob模块的递归搜索功能\n",
    "    json_files = glob.glob(os.path.join(root_dir, '**', '*.json'), recursive=True)\n",
    "    return json_files\n",
    "\n",
    "# 示例使用\n",
    "root_dir = \"./Argoverse 2.2/\"  # 替换为 Argoverse 2.2 文件夹的实际路径\n",
    "json_files = get_json_files(root_dir)[:2000]\n"
   ]
  },
  {
   "cell_type": "code",
   "execution_count": 3,
   "metadata": {},
   "outputs": [],
   "source": [
    "import matplotlib.pyplot as plt\n",
    "plt.rcParams['font.sans-serif'] = ['SimHei']   #显示中文\n",
    "plt.rcParams['axes.unicode_minus']=False       #显示负号\n",
    "plt.rcParams['font.family'] = 'Times New Roman'\n"
   ]
  },
  {
   "cell_type": "code",
   "execution_count": 4,
   "metadata": {},
   "outputs": [],
   "source": [
    "data_container = []"
   ]
  },
  {
   "cell_type": "code",
   "execution_count": 5,
   "metadata": {},
   "outputs": [
    {
     "name": "stderr",
     "output_type": "stream",
     "text": [
      "  0%|          | 0/2000 [00:00<?, ?it/s]"
     ]
    },
    {
     "name": "stderr",
     "output_type": "stream",
     "text": [
      "100%|██████████| 2000/2000 [00:27<00:00, 72.92it/s]\n"
     ]
    }
   ],
   "source": [
    "# 加载json文件\n",
    "import json\n",
    "def load_json(file_path):\n",
    "    \"\"\"Load JSON file and return the data.\"\"\"\n",
    "    try:\n",
    "        with open(file_path, 'r') as file:\n",
    "            data = json.load(file)\n",
    "        return data\n",
    "    except FileNotFoundError:\n",
    "        print(f\"File not found: {file_path}\")\n",
    "    except json.JSONDecodeError:\n",
    "        print(f\"Error decoding JSON from file: {file_path}\")\n",
    "\n",
    "def get_df(single_car):\n",
    "    keys = single_car.keys()\n",
    "    for key in keys:\n",
    "        need_data = single_car[key]\n",
    "        try:\n",
    "            centerline = need_data['centerline']\n",
    "            if len(centerline)<30:continue\n",
    "            df = pd.DataFrame(centerline)\n",
    "            del df['z']\n",
    "            data_container.append(df)\n",
    "        except KeyError:\n",
    "            continue\n",
    "from tqdm import tqdm\n",
    "for p  in tqdm(json_files):\n",
    "    demo = load_json(p)\n",
    "    get_df(demo['lane_segments'])"
   ]
  },
  {
   "cell_type": "code",
   "execution_count": 6,
   "metadata": {},
   "outputs": [],
   "source": [
    "import pickle \n",
    "# 保存\n",
    "with open('data.pkl', 'wb') as f:\n",
    "    pickle.dump(data_container, f)"
   ]
  },
  {
   "cell_type": "code",
   "execution_count": 7,
   "metadata": {},
   "outputs": [],
   "source": [
    "all_df = pd.concat(data_container)"
   ]
  },
  {
   "cell_type": "code",
   "execution_count": 8,
   "metadata": {},
   "outputs": [
    {
     "data": {
      "text/html": [
       "<div>\n",
       "<style scoped>\n",
       "    .dataframe tbody tr th:only-of-type {\n",
       "        vertical-align: middle;\n",
       "    }\n",
       "\n",
       "    .dataframe tbody tr th {\n",
       "        vertical-align: top;\n",
       "    }\n",
       "\n",
       "    .dataframe thead th {\n",
       "        text-align: right;\n",
       "    }\n",
       "</style>\n",
       "<table border=\"1\" class=\"dataframe\">\n",
       "  <thead>\n",
       "    <tr style=\"text-align: right;\">\n",
       "      <th></th>\n",
       "      <th>x</th>\n",
       "      <th>y</th>\n",
       "    </tr>\n",
       "  </thead>\n",
       "  <tbody>\n",
       "    <tr>\n",
       "      <th>0</th>\n",
       "      <td>-165.78</td>\n",
       "      <td>-537.32</td>\n",
       "    </tr>\n",
       "    <tr>\n",
       "      <th>1</th>\n",
       "      <td>-166.37</td>\n",
       "      <td>-539.22</td>\n",
       "    </tr>\n",
       "    <tr>\n",
       "      <th>2</th>\n",
       "      <td>-166.96</td>\n",
       "      <td>-541.12</td>\n",
       "    </tr>\n",
       "    <tr>\n",
       "      <th>3</th>\n",
       "      <td>-167.56</td>\n",
       "      <td>-543.02</td>\n",
       "    </tr>\n",
       "    <tr>\n",
       "      <th>4</th>\n",
       "      <td>-168.15</td>\n",
       "      <td>-544.92</td>\n",
       "    </tr>\n",
       "    <tr>\n",
       "      <th>...</th>\n",
       "      <td>...</td>\n",
       "      <td>...</td>\n",
       "    </tr>\n",
       "    <tr>\n",
       "      <th>25</th>\n",
       "      <td>11627.17</td>\n",
       "      <td>3472.45</td>\n",
       "    </tr>\n",
       "    <tr>\n",
       "      <th>26</th>\n",
       "      <td>11625.46</td>\n",
       "      <td>3471.51</td>\n",
       "    </tr>\n",
       "    <tr>\n",
       "      <th>27</th>\n",
       "      <td>11623.75</td>\n",
       "      <td>3470.57</td>\n",
       "    </tr>\n",
       "    <tr>\n",
       "      <th>28</th>\n",
       "      <td>11622.03</td>\n",
       "      <td>3469.62</td>\n",
       "    </tr>\n",
       "    <tr>\n",
       "      <th>29</th>\n",
       "      <td>11620.32</td>\n",
       "      <td>3468.68</td>\n",
       "    </tr>\n",
       "  </tbody>\n",
       "</table>\n",
       "<p>288213 rows × 2 columns</p>\n",
       "</div>"
      ],
      "text/plain": [
       "           x        y\n",
       "0    -165.78  -537.32\n",
       "1    -166.37  -539.22\n",
       "2    -166.96  -541.12\n",
       "3    -167.56  -543.02\n",
       "4    -168.15  -544.92\n",
       "..       ...      ...\n",
       "25  11627.17  3472.45\n",
       "26  11625.46  3471.51\n",
       "27  11623.75  3470.57\n",
       "28  11622.03  3469.62\n",
       "29  11620.32  3468.68\n",
       "\n",
       "[288213 rows x 2 columns]"
      ]
     },
     "execution_count": 8,
     "metadata": {},
     "output_type": "execute_result"
    }
   ],
   "source": [
    "all_df"
   ]
  },
  {
   "cell_type": "code",
   "execution_count": 9,
   "metadata": {},
   "outputs": [
    {
     "data": {
      "text/plain": [
       "6866"
      ]
     },
     "execution_count": 9,
     "metadata": {},
     "output_type": "execute_result"
    }
   ],
   "source": [
    "len(data_container)"
   ]
  }
 ],
 "metadata": {
  "kernelspec": {
   "display_name": "Python 3",
   "language": "python",
   "name": "python3"
  },
  "language_info": {
   "codemirror_mode": {
    "name": "ipython",
    "version": 3
   },
   "file_extension": ".py",
   "mimetype": "text/x-python",
   "name": "python",
   "nbconvert_exporter": "python",
   "pygments_lexer": "ipython3",
   "version": "3.12.7"
  }
 },
 "nbformat": 4,
 "nbformat_minor": 2
}
