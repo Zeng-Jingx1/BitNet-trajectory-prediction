{
 "cells": [
  {
   "cell_type": "code",
   "execution_count": 1,
   "metadata": {},
   "outputs": [],
   "source": [
    "import pandas as pd \n",
    "import numpy as np\n",
    "import matplotlib.pyplot as plt\n",
    "plt.rcParams['font.sans-serif'] = ['SimHei']   #显示中文\n",
    "plt.rcParams['axes.unicode_minus']=False       #显示负号\n",
    "import os"
   ]
  },
  {
   "cell_type": "code",
   "execution_count": 2,
   "metadata": {},
   "outputs": [],
   "source": [
    "import pickle \n",
    "# 保存\n",
    "dpath = 'data.pkl'\n",
    "with open(dpath, 'rb') as f:\n",
    "    data = pickle.load(f)"
   ]
  },
  {
   "cell_type": "markdown",
   "metadata": {},
   "source": [
    "# 数据部分"
   ]
  },
  {
   "cell_type": "code",
   "execution_count": 3,
   "metadata": {},
   "outputs": [],
   "source": [
    "from sklearn.preprocessing import MinMaxScaler\n",
    "if 'v1' in dpath:\n",
    "    scaler_train_x = MinMaxScaler(feature_range=(0, 1))\n",
    "    scaler_train_y = MinMaxScaler(feature_range=(0, 1))\n",
    "    scaler_x = MinMaxScaler(feature_range=(0, 1))\n",
    "else:\n",
    "    scaler_train_x = MinMaxScaler(feature_range=(-1, 1))\n",
    "    scaler_train_y = MinMaxScaler(feature_range=(-1, 1))\n",
    "    scaler_x = MinMaxScaler(feature_range=(-1, 1))"
   ]
  },
  {
   "cell_type": "code",
   "execution_count": 4,
   "metadata": {},
   "outputs": [],
   "source": [
    "import numpy as np\n",
    "\n",
    "def create_sliding_windows(seq_data, look_back=1, pre_l=1,mode='train'):\n",
    "    X, y = [], []\n",
    "    scaler_list = []\n",
    "    for i in range(len(seq_data) - look_back - pre_l + 1):\n",
    "        # 取出当前窗口的输入数据\n",
    "        window_x = seq_data[i:(i + look_back)]\n",
    "        # 取出当前窗口对应的目标数据\n",
    "        window_y = seq_data[(i + look_back):(i + look_back + pre_l)]\n",
    "        if mode == 'train':\n",
    "            window_x = scaler_train_x.fit_transform(window_x)\n",
    "            window_y = scaler_train_y.fit_transform(window_y)\n",
    "            X.append(window_x)\n",
    "            y.append(window_y)\n",
    "        if mode=='test':\n",
    "            scaler_y = MinMaxScaler(feature_range=(-1, 1))\n",
    "            window_x = scaler_x.fit_transform(window_x)\n",
    "            window_y = scaler_y.fit_transform(window_y)\n",
    "            X.append(window_x)\n",
    "            y.append(window_y)\n",
    "            scaler_list.append(scaler_y)\n",
    "    if mode=='train':\n",
    "        return np.array(X), np.array(y)\n",
    "    if mode=='test':\n",
    "        return np.array(X), np.array(y),scaler_list\n"
   ]
  },
  {
   "cell_type": "code",
   "execution_count": 5,
   "metadata": {},
   "outputs": [],
   "source": [
    "train_size = int(0.8*len(data))"
   ]
  },
  {
   "cell_type": "code",
   "execution_count": 6,
   "metadata": {},
   "outputs": [],
   "source": [
    "\n",
    "LOOK_BACK = 12  ############################################################ 这里输入窗口\n",
    "PREL = 5\n",
    "DIM = 2\n",
    "X_train_list = []\n",
    "y_train_list = []\n",
    "for d in data[:train_size]:\n",
    "    X_train, y_train = create_sliding_windows(d.values, look_back=LOOK_BACK, pre_l=PREL)\n",
    "    X_train_list.append(X_train)\n",
    "    y_train_list.append(y_train)\n",
    "X_train = np.concatenate(X_train_list, axis=0)\n",
    "y_train = np.concatenate(y_train_list, axis=0)\n"
   ]
  },
  {
   "cell_type": "markdown",
   "metadata": {},
   "source": [
    "## 模型部分"
   ]
  },
  {
   "cell_type": "code",
   "execution_count": 7,
   "metadata": {},
   "outputs": [],
   "source": [
    "import torch\n",
    "import torch.nn as nn\n",
    "import torch.nn.functional as F\n",
    "from torch import optim\n",
    "from torch.utils.data import DataLoader,TensorDataset\n",
    "from sklearn.model_selection import train_test_split\n",
    "# 划分数据集\n",
    "x_train,x_test,y_train,y_test = train_test_split(X_train,y_train,test_size=0.2,random_state=42)\n",
    "train_dataset = TensorDataset(torch.tensor(x_train,dtype=torch.float32),torch.tensor(y_train,dtype=torch.float32))\n",
    "test_dataset = TensorDataset(torch.tensor(x_test,dtype=torch.float32),torch.tensor(y_test,dtype=torch.float32))\n",
    "train_loader = DataLoader(train_dataset,batch_size=64,shuffle=True)\n",
    "test_loader = DataLoader(test_dataset,batch_size=64,shuffle=False)\n"
   ]
  },
  {
   "cell_type": "code",
   "execution_count": 8,
   "metadata": {},
   "outputs": [],
   "source": [
    "import torch\n",
    "import torch.nn as nn\n",
    "\n",
    "class Predictor(nn.Module):\n",
    "    def __init__(self, input_dim, hidden_dim, num_layers=1, dropout=0):\n",
    "        super(Predictor, self).__init__()\n",
    "        \n",
    "        # LSTM layer\n",
    "        # self.lstm = nn.LSTM(input_dim, hidden_dim, num_layers=num_layers, batch_first=True, dropout=dropout)\n",
    "        \n",
    "        # Fully connected layers\n",
    "        self.fc = nn.Sequential(\n",
    "            nn.Linear(hidden_dim*LOOK_BACK, 8),\n",
    "            nn.ReLU(),\n",
    "            nn.Linear(8, PREL * DIM)\n",
    "        )\n",
    "        \n",
    "        # Projection layer\n",
    "        self.pro = nn.Linear(DIM, hidden_dim)\n",
    "\n",
    "    def forward(self, x):\n",
    "        # Project the input to the desired dimensionality\n",
    "        x = self.pro(x)\n",
    "        x = x.view(x.size(0), -1)\n",
    "        # print(x.shape   )\n",
    "        # Pass through the fully connected layers\n",
    "        fc_out = self.fc(x)  # Shape: (batch_size, PREL * DIM)\n",
    "        \n",
    "        # Reshape to (batch_size, PREL, DIM)\n",
    "        fc_out = fc_out.view(fc_out.size(0), PREL, DIM)\n",
    "        \n",
    "        return fc_out"
   ]
  },
  {
   "cell_type": "code",
   "execution_count": 9,
   "metadata": {},
   "outputs": [],
   "source": [
    "import matplotlib.pyplot as plt\n",
    "from sklearn.metrics import mean_absolute_error\n",
    "\n",
    "# 初始化模型、优化器和损失函数\n",
    "device = torch.device(\"cuda\" if torch.cuda.is_available() else \"cpu\")\n",
    "model = Predictor(input_dim=1,hidden_dim=64).to(device)\n",
    "optimizer = optim.Adam(model.parameters(), lr=0.001)\n",
    "criterion = nn.MSELoss()\n"
   ]
  },
  {
   "cell_type": "code",
   "execution_count": 10,
   "metadata": {},
   "outputs": [
    {
     "data": {
      "text/plain": [
       "Predictor(\n",
       "  (fc): Sequential(\n",
       "    (0): Linear(in_features=768, out_features=8, bias=True)\n",
       "    (1): ReLU()\n",
       "    (2): Linear(in_features=8, out_features=10, bias=True)\n",
       "  )\n",
       "  (pro): Linear(in_features=2, out_features=64, bias=True)\n",
       ")"
      ]
     },
     "execution_count": 10,
     "metadata": {},
     "output_type": "execute_result"
    }
   ],
   "source": [
    "model"
   ]
  },
  {
   "cell_type": "code",
   "execution_count": 11,
   "metadata": {},
   "outputs": [
    {
     "name": "stdout",
     "output_type": "stream",
     "text": [
      "总参数数量: 6434\n",
      "可训练参数数量: 6434\n"
     ]
    }
   ],
   "source": [
    "# 计算模型的总参数数量\n",
    "total_params = sum(p.numel() for p in model.parameters())\n",
    "\n",
    "# 计算可训练的参数数量\n",
    "trainable_params = sum(p.numel() for p in model.parameters() if p.requires_grad)\n",
    "\n",
    "print(f\"总参数数量: {total_params}\")\n",
    "print(f\"可训练参数数量: {trainable_params}\")"
   ]
  },
  {
   "cell_type": "code",
   "execution_count": 12,
   "metadata": {},
   "outputs": [
    {
     "name": "stdout",
     "output_type": "stream",
     "text": [
      "Epoch [1/200], Train Loss: 0.0268, Val Loss: 0.0097, MAE: 0.0342\n",
      "Epoch [2/200], Train Loss: 0.0099, Val Loss: 0.0088, MAE: 0.0253\n",
      "Epoch [3/200], Train Loss: 0.0095, Val Loss: 0.0092, MAE: 0.0336\n",
      "Epoch [4/200], Train Loss: 0.0092, Val Loss: 0.0088, MAE: 0.0281\n",
      "Epoch [5/200], Train Loss: 0.0091, Val Loss: 0.0083, MAE: 0.0204\n",
      "Epoch [6/200], Train Loss: 0.0090, Val Loss: 0.0088, MAE: 0.0254\n",
      "Epoch [7/200], Train Loss: 0.0090, Val Loss: 0.0088, MAE: 0.0250\n",
      "Epoch [8/200], Train Loss: 0.0089, Val Loss: 0.0084, MAE: 0.0224\n",
      "Epoch [9/200], Train Loss: 0.0088, Val Loss: 0.0083, MAE: 0.0202\n",
      "Epoch [10/200], Train Loss: 0.0088, Val Loss: 0.0084, MAE: 0.0268\n",
      "Epoch [11/200], Train Loss: 0.0088, Val Loss: 0.0082, MAE: 0.0216\n",
      "Epoch [12/200], Train Loss: 0.0088, Val Loss: 0.0085, MAE: 0.0254\n",
      "Epoch [13/200], Train Loss: 0.0087, Val Loss: 0.0085, MAE: 0.0291\n",
      "Epoch [14/200], Train Loss: 0.0087, Val Loss: 0.0081, MAE: 0.0222\n",
      "Epoch [15/200], Train Loss: 0.0087, Val Loss: 0.0081, MAE: 0.0219\n",
      "Epoch [16/200], Train Loss: 0.0087, Val Loss: 0.0083, MAE: 0.0267\n",
      "Epoch [17/200], Train Loss: 0.0087, Val Loss: 0.0082, MAE: 0.0234\n",
      "Epoch [18/200], Train Loss: 0.0086, Val Loss: 0.0084, MAE: 0.0287\n",
      "Epoch [19/200], Train Loss: 0.0086, Val Loss: 0.0083, MAE: 0.0240\n",
      "Epoch [20/200], Train Loss: 0.0086, Val Loss: 0.0079, MAE: 0.0216\n",
      "Epoch [21/200], Train Loss: 0.0082, Val Loss: 0.0076, MAE: 0.0222\n",
      "Epoch [22/200], Train Loss: 0.0080, Val Loss: 0.0076, MAE: 0.0211\n",
      "Epoch [23/200], Train Loss: 0.0079, Val Loss: 0.0073, MAE: 0.0201\n",
      "Epoch [24/200], Train Loss: 0.0078, Val Loss: 0.0074, MAE: 0.0217\n",
      "Epoch [25/200], Train Loss: 0.0077, Val Loss: 0.0073, MAE: 0.0241\n",
      "Epoch [26/200], Train Loss: 0.0076, Val Loss: 0.0075, MAE: 0.0251\n",
      "Epoch [27/200], Train Loss: 0.0076, Val Loss: 0.0071, MAE: 0.0209\n",
      "Epoch [28/200], Train Loss: 0.0076, Val Loss: 0.0072, MAE: 0.0189\n",
      "Epoch [29/200], Train Loss: 0.0075, Val Loss: 0.0072, MAE: 0.0224\n",
      "Epoch [30/200], Train Loss: 0.0075, Val Loss: 0.0071, MAE: 0.0222\n",
      "Epoch [31/200], Train Loss: 0.0075, Val Loss: 0.0072, MAE: 0.0204\n",
      "Epoch [32/200], Train Loss: 0.0075, Val Loss: 0.0072, MAE: 0.0210\n",
      "Epoch [33/200], Train Loss: 0.0075, Val Loss: 0.0070, MAE: 0.0167\n",
      "Epoch [34/200], Train Loss: 0.0075, Val Loss: 0.0070, MAE: 0.0211\n",
      "Epoch [35/200], Train Loss: 0.0074, Val Loss: 0.0069, MAE: 0.0184\n",
      "Epoch [36/200], Train Loss: 0.0075, Val Loss: 0.0070, MAE: 0.0169\n",
      "Epoch [37/200], Train Loss: 0.0074, Val Loss: 0.0071, MAE: 0.0191\n",
      "Epoch [38/200], Train Loss: 0.0074, Val Loss: 0.0071, MAE: 0.0208\n",
      "Epoch [39/200], Train Loss: 0.0074, Val Loss: 0.0073, MAE: 0.0243\n",
      "Epoch [40/200], Train Loss: 0.0074, Val Loss: 0.0071, MAE: 0.0222\n",
      "Epoch [41/200], Train Loss: 0.0074, Val Loss: 0.0072, MAE: 0.0224\n",
      "Epoch [42/200], Train Loss: 0.0074, Val Loss: 0.0071, MAE: 0.0209\n",
      "Epoch [43/200], Train Loss: 0.0074, Val Loss: 0.0069, MAE: 0.0183\n",
      "Epoch [44/200], Train Loss: 0.0074, Val Loss: 0.0071, MAE: 0.0193\n",
      "Epoch [45/200], Train Loss: 0.0074, Val Loss: 0.0070, MAE: 0.0200\n",
      "Epoch [46/200], Train Loss: 0.0074, Val Loss: 0.0070, MAE: 0.0201\n",
      "Epoch [47/200], Train Loss: 0.0074, Val Loss: 0.0071, MAE: 0.0216\n",
      "Epoch [48/200], Train Loss: 0.0074, Val Loss: 0.0069, MAE: 0.0193\n",
      "Epoch [49/200], Train Loss: 0.0074, Val Loss: 0.0069, MAE: 0.0192\n",
      "Epoch [50/200], Train Loss: 0.0074, Val Loss: 0.0070, MAE: 0.0206\n",
      "Epoch [51/200], Train Loss: 0.0074, Val Loss: 0.0072, MAE: 0.0245\n",
      "Epoch [52/200], Train Loss: 0.0073, Val Loss: 0.0069, MAE: 0.0190\n",
      "Epoch [53/200], Train Loss: 0.0073, Val Loss: 0.0069, MAE: 0.0188\n",
      "Epoch [54/200], Train Loss: 0.0074, Val Loss: 0.0071, MAE: 0.0194\n",
      "Epoch [55/200], Train Loss: 0.0073, Val Loss: 0.0070, MAE: 0.0198\n",
      "Epoch [56/200], Train Loss: 0.0073, Val Loss: 0.0069, MAE: 0.0182\n",
      "Epoch [57/200], Train Loss: 0.0073, Val Loss: 0.0069, MAE: 0.0160\n",
      "Epoch [58/200], Train Loss: 0.0073, Val Loss: 0.0070, MAE: 0.0195\n",
      "Epoch [59/200], Train Loss: 0.0073, Val Loss: 0.0071, MAE: 0.0245\n",
      "Epoch [60/200], Train Loss: 0.0073, Val Loss: 0.0069, MAE: 0.0203\n",
      "Epoch [61/200], Train Loss: 0.0073, Val Loss: 0.0070, MAE: 0.0215\n",
      "Epoch [62/200], Train Loss: 0.0073, Val Loss: 0.0069, MAE: 0.0188\n",
      "Epoch [63/200], Train Loss: 0.0073, Val Loss: 0.0069, MAE: 0.0189\n",
      "Epoch [64/200], Train Loss: 0.0073, Val Loss: 0.0069, MAE: 0.0185\n",
      "Epoch [65/200], Train Loss: 0.0073, Val Loss: 0.0070, MAE: 0.0228\n",
      "Epoch [66/200], Train Loss: 0.0073, Val Loss: 0.0070, MAE: 0.0237\n",
      "Epoch [67/200], Train Loss: 0.0073, Val Loss: 0.0069, MAE: 0.0174\n",
      "Epoch [68/200], Train Loss: 0.0073, Val Loss: 0.0070, MAE: 0.0218\n",
      "Epoch [69/200], Train Loss: 0.0073, Val Loss: 0.0071, MAE: 0.0239\n",
      "Epoch [70/200], Train Loss: 0.0073, Val Loss: 0.0069, MAE: 0.0189\n",
      "Epoch [71/200], Train Loss: 0.0073, Val Loss: 0.0075, MAE: 0.0224\n",
      "Epoch [72/200], Train Loss: 0.0073, Val Loss: 0.0068, MAE: 0.0184\n",
      "Epoch [73/200], Train Loss: 0.0073, Val Loss: 0.0068, MAE: 0.0188\n",
      "Epoch [74/200], Train Loss: 0.0073, Val Loss: 0.0067, MAE: 0.0156\n",
      "Epoch [75/200], Train Loss: 0.0073, Val Loss: 0.0068, MAE: 0.0167\n",
      "Epoch [76/200], Train Loss: 0.0073, Val Loss: 0.0069, MAE: 0.0210\n",
      "Epoch [77/200], Train Loss: 0.0073, Val Loss: 0.0068, MAE: 0.0192\n",
      "Epoch [78/200], Train Loss: 0.0073, Val Loss: 0.0069, MAE: 0.0197\n",
      "Epoch [79/200], Train Loss: 0.0073, Val Loss: 0.0069, MAE: 0.0197\n",
      "Epoch [80/200], Train Loss: 0.0072, Val Loss: 0.0070, MAE: 0.0238\n",
      "Epoch [81/200], Train Loss: 0.0073, Val Loss: 0.0069, MAE: 0.0197\n",
      "Epoch [82/200], Train Loss: 0.0072, Val Loss: 0.0068, MAE: 0.0192\n",
      "Epoch [83/200], Train Loss: 0.0072, Val Loss: 0.0069, MAE: 0.0196\n",
      "Epoch [84/200], Train Loss: 0.0072, Val Loss: 0.0069, MAE: 0.0201\n",
      "Epoch [85/200], Train Loss: 0.0072, Val Loss: 0.0068, MAE: 0.0178\n",
      "Epoch [86/200], Train Loss: 0.0072, Val Loss: 0.0074, MAE: 0.0297\n",
      "Epoch [87/200], Train Loss: 0.0072, Val Loss: 0.0068, MAE: 0.0186\n",
      "Epoch [88/200], Train Loss: 0.0072, Val Loss: 0.0068, MAE: 0.0169\n",
      "Epoch [89/200], Train Loss: 0.0072, Val Loss: 0.0068, MAE: 0.0179\n",
      "Epoch [90/200], Train Loss: 0.0072, Val Loss: 0.0068, MAE: 0.0180\n",
      "Epoch [91/200], Train Loss: 0.0072, Val Loss: 0.0068, MAE: 0.0177\n",
      "Epoch [92/200], Train Loss: 0.0072, Val Loss: 0.0067, MAE: 0.0181\n",
      "Epoch [93/200], Train Loss: 0.0072, Val Loss: 0.0071, MAE: 0.0227\n",
      "Epoch [94/200], Train Loss: 0.0072, Val Loss: 0.0068, MAE: 0.0203\n",
      "Epoch [95/200], Train Loss: 0.0072, Val Loss: 0.0069, MAE: 0.0205\n",
      "Epoch [96/200], Train Loss: 0.0072, Val Loss: 0.0069, MAE: 0.0200\n",
      "Epoch [97/200], Train Loss: 0.0072, Val Loss: 0.0069, MAE: 0.0215\n",
      "Epoch [98/200], Train Loss: 0.0072, Val Loss: 0.0068, MAE: 0.0186\n",
      "Epoch [99/200], Train Loss: 0.0072, Val Loss: 0.0068, MAE: 0.0184\n",
      "Epoch [100/200], Train Loss: 0.0072, Val Loss: 0.0071, MAE: 0.0257\n",
      "Epoch [101/200], Train Loss: 0.0072, Val Loss: 0.0067, MAE: 0.0160\n",
      "Epoch [102/200], Train Loss: 0.0072, Val Loss: 0.0067, MAE: 0.0171\n",
      "Epoch [103/200], Train Loss: 0.0072, Val Loss: 0.0069, MAE: 0.0219\n",
      "Epoch [104/200], Train Loss: 0.0072, Val Loss: 0.0068, MAE: 0.0185\n",
      "Epoch [105/200], Train Loss: 0.0072, Val Loss: 0.0067, MAE: 0.0189\n",
      "Epoch [106/200], Train Loss: 0.0072, Val Loss: 0.0069, MAE: 0.0243\n",
      "Epoch [107/200], Train Loss: 0.0072, Val Loss: 0.0069, MAE: 0.0218\n",
      "Epoch [108/200], Train Loss: 0.0071, Val Loss: 0.0067, MAE: 0.0189\n",
      "Epoch [109/200], Train Loss: 0.0071, Val Loss: 0.0073, MAE: 0.0266\n",
      "Epoch [110/200], Train Loss: 0.0072, Val Loss: 0.0068, MAE: 0.0208\n",
      "Epoch [111/200], Train Loss: 0.0071, Val Loss: 0.0070, MAE: 0.0246\n",
      "Epoch [112/200], Train Loss: 0.0071, Val Loss: 0.0067, MAE: 0.0162\n",
      "Epoch [113/200], Train Loss: 0.0071, Val Loss: 0.0071, MAE: 0.0234\n",
      "Epoch [114/200], Train Loss: 0.0071, Val Loss: 0.0068, MAE: 0.0203\n",
      "Epoch [115/200], Train Loss: 0.0071, Val Loss: 0.0067, MAE: 0.0179\n",
      "Epoch [116/200], Train Loss: 0.0071, Val Loss: 0.0069, MAE: 0.0209\n",
      "Epoch [117/200], Train Loss: 0.0071, Val Loss: 0.0067, MAE: 0.0163\n",
      "Epoch [118/200], Train Loss: 0.0071, Val Loss: 0.0069, MAE: 0.0229\n",
      "Epoch [119/200], Train Loss: 0.0071, Val Loss: 0.0066, MAE: 0.0179\n",
      "Epoch [120/200], Train Loss: 0.0071, Val Loss: 0.0068, MAE: 0.0209\n",
      "Epoch [121/200], Train Loss: 0.0071, Val Loss: 0.0067, MAE: 0.0184\n",
      "Epoch [122/200], Train Loss: 0.0071, Val Loss: 0.0070, MAE: 0.0264\n",
      "Epoch [123/200], Train Loss: 0.0071, Val Loss: 0.0068, MAE: 0.0233\n",
      "Epoch [124/200], Train Loss: 0.0071, Val Loss: 0.0067, MAE: 0.0194\n",
      "Epoch [125/200], Train Loss: 0.0071, Val Loss: 0.0068, MAE: 0.0226\n",
      "Epoch [126/200], Train Loss: 0.0070, Val Loss: 0.0070, MAE: 0.0226\n",
      "Epoch [127/200], Train Loss: 0.0070, Val Loss: 0.0066, MAE: 0.0160\n",
      "Epoch [128/200], Train Loss: 0.0070, Val Loss: 0.0065, MAE: 0.0149\n",
      "Epoch [129/200], Train Loss: 0.0070, Val Loss: 0.0067, MAE: 0.0197\n",
      "Epoch [130/200], Train Loss: 0.0070, Val Loss: 0.0069, MAE: 0.0249\n",
      "Epoch [131/200], Train Loss: 0.0070, Val Loss: 0.0066, MAE: 0.0201\n",
      "Epoch [132/200], Train Loss: 0.0070, Val Loss: 0.0069, MAE: 0.0249\n",
      "Epoch [133/200], Train Loss: 0.0070, Val Loss: 0.0067, MAE: 0.0188\n",
      "Epoch [134/200], Train Loss: 0.0070, Val Loss: 0.0066, MAE: 0.0193\n",
      "Epoch [135/200], Train Loss: 0.0070, Val Loss: 0.0066, MAE: 0.0190\n",
      "Epoch [136/200], Train Loss: 0.0070, Val Loss: 0.0066, MAE: 0.0199\n",
      "Epoch [137/200], Train Loss: 0.0070, Val Loss: 0.0066, MAE: 0.0210\n",
      "Epoch [138/200], Train Loss: 0.0070, Val Loss: 0.0066, MAE: 0.0195\n",
      "Epoch [139/200], Train Loss: 0.0070, Val Loss: 0.0066, MAE: 0.0214\n",
      "Epoch [140/200], Train Loss: 0.0070, Val Loss: 0.0067, MAE: 0.0221\n",
      "Epoch [141/200], Train Loss: 0.0070, Val Loss: 0.0066, MAE: 0.0189\n",
      "Epoch [142/200], Train Loss: 0.0070, Val Loss: 0.0067, MAE: 0.0233\n",
      "Epoch [143/200], Train Loss: 0.0070, Val Loss: 0.0067, MAE: 0.0204\n",
      "Epoch [144/200], Train Loss: 0.0070, Val Loss: 0.0065, MAE: 0.0179\n",
      "Epoch [145/200], Train Loss: 0.0070, Val Loss: 0.0066, MAE: 0.0197\n",
      "Epoch [146/200], Train Loss: 0.0070, Val Loss: 0.0066, MAE: 0.0203\n",
      "Epoch [147/200], Train Loss: 0.0070, Val Loss: 0.0066, MAE: 0.0174\n",
      "Epoch [148/200], Train Loss: 0.0070, Val Loss: 0.0066, MAE: 0.0182\n",
      "Epoch [149/200], Train Loss: 0.0070, Val Loss: 0.0066, MAE: 0.0171\n",
      "Epoch [150/200], Train Loss: 0.0070, Val Loss: 0.0065, MAE: 0.0178\n",
      "Epoch [151/200], Train Loss: 0.0070, Val Loss: 0.0072, MAE: 0.0280\n",
      "Epoch [152/200], Train Loss: 0.0070, Val Loss: 0.0066, MAE: 0.0208\n",
      "Epoch [153/200], Train Loss: 0.0069, Val Loss: 0.0065, MAE: 0.0189\n",
      "Epoch [154/200], Train Loss: 0.0069, Val Loss: 0.0065, MAE: 0.0195\n",
      "Epoch [155/200], Train Loss: 0.0069, Val Loss: 0.0067, MAE: 0.0215\n",
      "Epoch [156/200], Train Loss: 0.0070, Val Loss: 0.0066, MAE: 0.0208\n",
      "Epoch [157/200], Train Loss: 0.0069, Val Loss: 0.0066, MAE: 0.0204\n",
      "Epoch [158/200], Train Loss: 0.0069, Val Loss: 0.0066, MAE: 0.0197\n",
      "Epoch [159/200], Train Loss: 0.0069, Val Loss: 0.0065, MAE: 0.0174\n",
      "Epoch [160/200], Train Loss: 0.0070, Val Loss: 0.0065, MAE: 0.0175\n",
      "Epoch [161/200], Train Loss: 0.0069, Val Loss: 0.0064, MAE: 0.0170\n",
      "Epoch [162/200], Train Loss: 0.0069, Val Loss: 0.0067, MAE: 0.0231\n",
      "Epoch [163/200], Train Loss: 0.0070, Val Loss: 0.0066, MAE: 0.0223\n",
      "Epoch [164/200], Train Loss: 0.0070, Val Loss: 0.0064, MAE: 0.0158\n",
      "Epoch [165/200], Train Loss: 0.0069, Val Loss: 0.0065, MAE: 0.0179\n",
      "Epoch [166/200], Train Loss: 0.0069, Val Loss: 0.0066, MAE: 0.0208\n",
      "Epoch [167/200], Train Loss: 0.0069, Val Loss: 0.0065, MAE: 0.0197\n",
      "Epoch [168/200], Train Loss: 0.0069, Val Loss: 0.0064, MAE: 0.0160\n",
      "Epoch [169/200], Train Loss: 0.0069, Val Loss: 0.0065, MAE: 0.0185\n",
      "Epoch [170/200], Train Loss: 0.0069, Val Loss: 0.0065, MAE: 0.0198\n",
      "Epoch [171/200], Train Loss: 0.0069, Val Loss: 0.0066, MAE: 0.0186\n",
      "Epoch [172/200], Train Loss: 0.0069, Val Loss: 0.0064, MAE: 0.0181\n",
      "Epoch [173/200], Train Loss: 0.0069, Val Loss: 0.0066, MAE: 0.0190\n",
      "Epoch [174/200], Train Loss: 0.0069, Val Loss: 0.0065, MAE: 0.0154\n",
      "Epoch [175/200], Train Loss: 0.0069, Val Loss: 0.0064, MAE: 0.0172\n",
      "Epoch [176/200], Train Loss: 0.0069, Val Loss: 0.0065, MAE: 0.0160\n",
      "Epoch [177/200], Train Loss: 0.0069, Val Loss: 0.0066, MAE: 0.0203\n",
      "Epoch [178/200], Train Loss: 0.0069, Val Loss: 0.0065, MAE: 0.0190\n",
      "Epoch [179/200], Train Loss: 0.0069, Val Loss: 0.0067, MAE: 0.0231\n",
      "Epoch [180/200], Train Loss: 0.0069, Val Loss: 0.0065, MAE: 0.0176\n",
      "Epoch [181/200], Train Loss: 0.0069, Val Loss: 0.0064, MAE: 0.0160\n",
      "Epoch [182/200], Train Loss: 0.0069, Val Loss: 0.0064, MAE: 0.0161\n",
      "Epoch [183/200], Train Loss: 0.0069, Val Loss: 0.0065, MAE: 0.0195\n",
      "Epoch [184/200], Train Loss: 0.0069, Val Loss: 0.0064, MAE: 0.0168\n",
      "Epoch [185/200], Train Loss: 0.0069, Val Loss: 0.0067, MAE: 0.0196\n",
      "Epoch [186/200], Train Loss: 0.0069, Val Loss: 0.0065, MAE: 0.0191\n",
      "Epoch [187/200], Train Loss: 0.0069, Val Loss: 0.0066, MAE: 0.0201\n",
      "Epoch [188/200], Train Loss: 0.0069, Val Loss: 0.0064, MAE: 0.0165\n",
      "Epoch [189/200], Train Loss: 0.0069, Val Loss: 0.0064, MAE: 0.0139\n",
      "Epoch [190/200], Train Loss: 0.0069, Val Loss: 0.0066, MAE: 0.0225\n",
      "Epoch [191/200], Train Loss: 0.0069, Val Loss: 0.0069, MAE: 0.0278\n",
      "Epoch [192/200], Train Loss: 0.0069, Val Loss: 0.0065, MAE: 0.0201\n",
      "Epoch [193/200], Train Loss: 0.0069, Val Loss: 0.0066, MAE: 0.0210\n",
      "Epoch [194/200], Train Loss: 0.0069, Val Loss: 0.0064, MAE: 0.0175\n",
      "Epoch [195/200], Train Loss: 0.0069, Val Loss: 0.0069, MAE: 0.0249\n",
      "Epoch [196/200], Train Loss: 0.0069, Val Loss: 0.0067, MAE: 0.0218\n",
      "Epoch [197/200], Train Loss: 0.0069, Val Loss: 0.0064, MAE: 0.0196\n",
      "Epoch [198/200], Train Loss: 0.0069, Val Loss: 0.0066, MAE: 0.0209\n",
      "Epoch [199/200], Train Loss: 0.0069, Val Loss: 0.0065, MAE: 0.0208\n",
      "Epoch [200/200], Train Loss: 0.0069, Val Loss: 0.0065, MAE: 0.0200\n"
     ]
    }
   ],
   "source": [
    "\n",
    "# 训练和验证过程\n",
    "train_losses = []\n",
    "val_losses = []\n",
    "mae_scores = []\n",
    "\n",
    "def train_model(epochs):\n",
    "    for epoch in range(epochs):\n",
    "        model.train()\n",
    "        train_loss = 0.0\n",
    "        for batch_x, batch_y in train_loader:\n",
    "            batch_x, batch_y = batch_x.to(device), batch_y.to(device)\n",
    "\n",
    "            optimizer.zero_grad()\n",
    "            outputs = model(batch_x)\n",
    "            loss = criterion(outputs, batch_y)\n",
    "            loss.backward()\n",
    "            optimizer.step()\n",
    "\n",
    "            train_loss += loss.item()\n",
    "\n",
    "        train_loss /= len(train_loader)\n",
    "        train_losses.append(train_loss)\n",
    "\n",
    "        # 验证集评估\n",
    "        val_loss, mae_score = validate_model()\n",
    "        val_losses.append(val_loss)\n",
    "        mae_scores.append(mae_score)\n",
    "\n",
    "        print(f\"Epoch [{epoch+1}/{epochs}], Train Loss: {train_loss:.4f}, Val Loss: {val_loss:.4f}, MAE: {mae_score:.4f}\")\n",
    "\n",
    "def validate_model():\n",
    "    model.eval()\n",
    "    val_loss = 0.0\n",
    "    all_preds = []\n",
    "    all_labels = []\n",
    "    with torch.no_grad():\n",
    "        for batch_x, batch_y in test_loader:\n",
    "            batch_x, batch_y = batch_x.to(device), batch_y.to(device)\n",
    "            outputs = model(batch_x)\n",
    "            loss = criterion(outputs, batch_y)\n",
    "            val_loss += loss.item()\n",
    "\n",
    "            all_preds.append(outputs.cpu().numpy())\n",
    "            all_labels.append(batch_y.cpu().numpy())\n",
    "\n",
    "    val_loss /= len(test_loader)\n",
    "    all_preds = np.concatenate(all_preds, axis=0)\n",
    "    all_labels = np.concatenate(all_labels, axis=0)\n",
    "    mae = mean_absolute_error(all_labels.reshape(-1), all_preds.reshape(-1))\n",
    "    return val_loss, mae\n",
    "\n",
    "\n",
    "# 运行训练和绘图\n",
    "if __name__ == \"__main__\":\n",
    "    epochs = 200  # 设置训练轮数\n",
    "    train_model(epochs)\n",
    "    "
   ]
  },
  {
   "cell_type": "code",
   "execution_count": 13,
   "metadata": {},
   "outputs": [
    {
     "data": {
      "image/png": "[encoded data removed]",
      "text/plain": [
       "<Figure size 1200x600 with 2 Axes>"
      ]
     },
     "metadata": {},
     "output_type": "display_data"
    }
   ],
   "source": [
    "# 绘制损失和MAE曲线\n",
    "def plot_metrics():\n",
    "    epochs = range(1, len(train_losses) + 1)\n",
    "    plt.figure(figsize=(12, 6),dpi=100)\n",
    "\n",
    "    # 绘制训练和验证损失\n",
    "    plt.subplot(1, 2, 1)\n",
    "    plt.plot(epochs, train_losses, label=\"Train Loss\", color=\"blue\")\n",
    "    plt.plot(epochs, val_losses, label=\"Validation Loss\", color=\"orange\")\n",
    "    plt.title(\"Loss Curve\")\n",
    "    plt.xlabel(\"Epochs\")\n",
    "    plt.ylabel(\"Loss\")\n",
    "    plt.legend()\n",
    "\n",
    "    # 绘制MAE曲线\n",
    "    plt.subplot(1, 2, 2)\n",
    "    plt.plot(epochs, mae_scores, label=\"MAE\", color=\"green\")\n",
    "    plt.title(\"MAE Curve\")\n",
    "    plt.xlabel(\"Epochs\")\n",
    "    plt.ylabel(\"MAE\")\n",
    "    plt.legend()\n",
    "\n",
    "    plt.tight_layout()\n",
    "    plt.show()\n",
    "plot_metrics()"
   ]
  },
  {
   "cell_type": "markdown",
   "metadata": {},
   "source": [
    "#### 测试"
   ]
  },
  {
   "cell_type": "code",
   "execution_count": 14,
   "metadata": {},
   "outputs": [],
   "source": [
    "Test_df = data[train_size:]"
   ]
  },
  {
   "cell_type": "code",
   "execution_count": 15,
   "metadata": {},
   "outputs": [],
   "source": [
    "X_test_list = []  \n",
    "y_test_list = []\n",
    "y_test_scaler_list = []\n",
    "for d in Test_df:\n",
    "    X_test, y_test,s = create_sliding_windows(d.values, look_back=LOOK_BACK, pre_l=PREL,mode='test')\n",
    "    X_test_list.append(X_test)\n",
    "    y_test_list.append(y_test)\n",
    "    y_test_scaler_list.append(s)\n"
   ]
  },
  {
   "cell_type": "code",
   "execution_count": 16,
   "metadata": {},
   "outputs": [],
   "source": [
    "pred_results = {}\n",
    "idx = 0\n",
    "for inp,ytrue,scalers in zip(X_test_list,y_test_list,y_test_scaler_list):\n",
    "    with torch.no_grad():\n",
    "        inp = torch.tensor(inp,dtype=torch.float32).to(device)\n",
    "        out = model(inp)\n",
    "        out = out.cpu().numpy()\n",
    "        pred_list = []\n",
    "        true_list = []\n",
    "        for i in range(out.shape[0]):\n",
    "            scaler = scalers[i]\n",
    "            p_ = scaler.inverse_transform(out[i])\n",
    "            true_ = scaler.inverse_transform(ytrue[i])\n",
    "            pred_list.append(p_)\n",
    "            true_list.append(true_)\n",
    "        pred_list = np.array(pred_list)\n",
    "        true_list = np.array(true_list)\n",
    "    pred_results[idx] = {'ytrue':true_list,'yhat':pred_list}\n",
    "    idx+=1\n",
    "with open('densenet_pred_results.pkl','wb') as f:\n",
    "    pickle.dump(pred_results,f)"
   ]
  },
  {
   "cell_type": "code",
   "execution_count": 17,
   "metadata": {},
   "outputs": [
    {
     "data": {
      "text/plain": [
       "array([[11627.075 ,  3472.4102],\n",
       "       [11625.379 ,  3471.513 ],\n",
       "       [11623.754 ,  3470.6038],\n",
       "       [11622.038 ,  3469.6418],\n",
       "       [11620.415 ,  3468.7034]], dtype=float32)"
      ]
     },
     "execution_count": 17,
     "metadata": {},
     "output_type": "execute_result"
    }
   ],
   "source": [
    "p_"
   ]
  },
  {
   "cell_type": "code",
   "execution_count": 18,
   "metadata": {},
   "outputs": [
    {
     "data": {
      "text/plain": [
       "array([[11627.17,  3472.45],\n",
       "       [11625.46,  3471.51],\n",
       "       [11623.75,  3470.57],\n",
       "       [11622.03,  3469.62],\n",
       "       [11620.32,  3468.68]])"
      ]
     },
     "execution_count": 18,
     "metadata": {},
     "output_type": "execute_result"
    }
   ],
   "source": [
    "true_"
   ]
  }
 ],
 "metadata": {
  "kernelspec": {
   "display_name": "Python 3",
   "language": "python",
   "name": "python3"
  },
  "language_info": {
   "codemirror_mode": {
    "name": "ipython",
    "version": 3
   },
   "file_extension": ".py",
   "mimetype": "text/x-python",
   "name": "python",
   "nbconvert_exporter": "python",
   "pygments_lexer": "ipython3",
   "version": "3.12.7"
  }
 },
 "nbformat": 4,
 "nbformat_minor": 2
}
